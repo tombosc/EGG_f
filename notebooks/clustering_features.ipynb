{
 "cells": [
  {
   "cell_type": "code",
   "execution_count": 1,
   "id": "local-valuable",
   "metadata": {},
   "outputs": [
    {
     "name": "stdout",
     "output_type": "stream",
     "text": [
      "total sentence, tokens and arguments: 9270\n",
      "total sentences and verb tokens: 5193\n",
      "args count Counter({1: 4163, 0: 3939, 2: 1168})\n",
      "removing 48 examples which have no roles (n_max_args=3)\n",
      "Counter({(True, True, False): 2390, (True, False, False): 931, (False, True, False): 760, (False, True, True): 456, (True, True, True): 443, (True, False, True): 151, (False, False, False): 48, (False, False, True): 14})\n"
     ]
    }
   ],
   "source": [
    "from egg.zoo.vd_reco import data_proto\n",
    "dataset = data_proto.Data(fn=\"../protoroles_eng_pb/protoroles_eng_pb_08302015.tsv\",\n",
    "                          augment=\"basic\")\n",
    "idx2role = {idx: role for role, idx in dataset.idx_roleset.items()}"
   ]
  },
  {
   "cell_type": "code",
   "execution_count": 2,
   "id": "prepared-museum",
   "metadata": {},
   "outputs": [],
   "source": [
    "import numpy as np\n",
    "\n",
    "args = []\n",
    "for d in dataset:\n",
    "    sender_inputs, _, _ = d\n",
    "    _, properties, to_send = sender_inputs\n",
    "    for j, v in enumerate(to_send[1:]):\n",
    "        if v == 1:\n",
    "            args.append(properties[j])\n",
    "args = np.stack(args)"
   ]
  },
  {
   "cell_type": "markdown",
   "id": "composed-reputation",
   "metadata": {},
   "source": [
    "# PCA\n",
    "As a first, very crude approximation, we can try to apply PCA on the data. It is very crude because data is not continuous, and moreover, there are lots of N/A. Still, let's see...\n"
   ]
  },
  {
   "cell_type": "code",
   "execution_count": 3,
   "id": "potential-watch",
   "metadata": {},
   "outputs": [
    {
     "name": "stdout",
     "output_type": "stream",
     "text": [
      "[[3 0 2 0 1 1 3 3 3 0 3 0 0 0 2 0 0 3]\n",
      " [0 0 2 0 3 1 3 1 3 0 0 0 0 3 3 0 0 0]\n",
      " [0 0 3 0 1 1 3 3 3 0 0 0 0 0 3 0 0 0]]\n",
      "[[3 3 2 3 1 1 3 3 3 3 3 3 3 3 2 3 3 3]\n",
      " [3 3 2 3 3 1 3 1 3 3 3 3 3 3 3 3 3 3]\n",
      " [3 3 3 3 1 1 3 3 3 3 3 3 3 3 3 3 3 3]]\n",
      "[[ 1  1  0  1 -1 -1  1  1  1  1  1  1  1  1  0  1  1  1]\n",
      " [ 1  1  0  1  1 -1  1 -1  1  1  1  1  1  1  1  1  1  1]\n",
      " [ 1  1  1  1 -1 -1  1  1  1  1  1  1  1  1  1  1  1  1]]\n"
     ]
    }
   ],
   "source": [
    "# preprocess these arguments\n",
    "args_cont = args.copy()\n",
    "print(args_cont[:3])\n",
    "args_cont[args_cont == 0.] = 3\n",
    "print(args_cont[:3])\n",
    "args_cont = (args_cont - 2)\n",
    "print(args_cont[:3])\n"
   ]
  },
  {
   "cell_type": "code",
   "execution_count": 4,
   "id": "administrative-illustration",
   "metadata": {},
   "outputs": [
    {
     "data": {
      "text/plain": [
       "PCA(n_components=2, whiten=True)"
      ]
     },
     "execution_count": 4,
     "metadata": {},
     "output_type": "execute_result"
    }
   ],
   "source": [
    "from sklearn.decomposition import PCA\n",
    "\n",
    "model = PCA(n_components=2, whiten=True)\n",
    "model.fit(args_cont)"
   ]
  },
  {
   "cell_type": "code",
   "execution_count": 5,
   "id": "chronic-jones",
   "metadata": {},
   "outputs": [
    {
     "data": {
      "text/plain": [
       "array([[-0.02944897, -0.21898863, -0.24468966, -0.09221056, -0.57540033,\n",
       "        -0.33973404,  0.03825623,  0.27456393,  0.03005701, -0.00979724,\n",
       "        -0.06283318, -0.01202883, -0.18607906, -0.00391557, -0.48500489,\n",
       "        -0.02530752, -0.2792066 , -0.0767325 ],\n",
       "       [-0.03376203, -0.13596905, -0.37833404,  0.13888911,  0.53367329,\n",
       "         0.14267766,  0.04487401, -0.34723074,  0.00254301, -0.05949469,\n",
       "         0.05476461,  0.00941763, -0.1387911 , -0.01081923, -0.59541331,\n",
       "        -0.01545405, -0.09683828,  0.0071624 ]])"
      ]
     },
     "execution_count": 5,
     "metadata": {},
     "output_type": "execute_result"
    }
   ],
   "source": [
    "model.components_"
   ]
  },
  {
   "cell_type": "code",
   "execution_count": 6,
   "id": "secret-dividend",
   "metadata": {},
   "outputs": [],
   "source": [
    "comp_prop0 = sorted(zip(model.components_[0], dataset.ordered_properties))\n",
    "comp_prop1 = sorted(zip(model.components_[1], dataset.ordered_properties))"
   ]
  },
  {
   "cell_type": "code",
   "execution_count": 7,
   "id": "injured-window",
   "metadata": {},
   "outputs": [
    {
     "data": {
      "text/plain": [
       "[(-0.5754003315347728, 'created'),\n",
       " (-0.48500488560631866, 'predicate_changed_argument'),\n",
       " (-0.339734036705558, 'destroyed'),\n",
       " (-0.2792066008145787, 'stationary'),\n",
       " (-0.24468966081250945, 'change_of_state'),\n",
       " (-0.21898863461130985, 'change_of_location'),\n",
       " (-0.1860790608705551, 'makes_physical_contact'),\n",
       " (-0.09221055793573503, 'changes_possession'),\n",
       " (-0.0767324953793391, 'volition'),\n",
       " (-0.06283317818091252, 'instigation'),\n",
       " (-0.0294489698031192, 'awareness'),\n",
       " (-0.025307515688507788, 'sentient'),\n",
       " (-0.012028831184816314, 'location_of_event'),\n",
       " (-0.00979724380079415, 'exists_as_physical'),\n",
       " (-0.003915565454983711, 'manipulated_by_another'),\n",
       " (0.03005701439624688, 'existed_during'),\n",
       " (0.03825623290890032, 'existed_after'),\n",
       " (0.27456392970781734, 'existed_before')]"
      ]
     },
     "execution_count": 7,
     "metadata": {},
     "output_type": "execute_result"
    }
   ],
   "source": [
    "comp_prop0"
   ]
  },
  {
   "cell_type": "code",
   "execution_count": 8,
   "id": "novel-landing",
   "metadata": {},
   "outputs": [
    {
     "data": {
      "text/plain": [
       "[(-0.5954133129103042, 'predicate_changed_argument'),\n",
       " (-0.37833403966906065, 'change_of_state'),\n",
       " (-0.3472307351544367, 'existed_before'),\n",
       " (-0.13879110122853747, 'makes_physical_contact'),\n",
       " (-0.1359690510152945, 'change_of_location'),\n",
       " (-0.09683827813875047, 'stationary'),\n",
       " (-0.05949469300048274, 'exists_as_physical'),\n",
       " (-0.0337620273640992, 'awareness'),\n",
       " (-0.015454049624351008, 'sentient'),\n",
       " (-0.010819226745428694, 'manipulated_by_another'),\n",
       " (0.002543005258685132, 'existed_during'),\n",
       " (0.007162397693808182, 'volition'),\n",
       " (0.009417630719648058, 'location_of_event'),\n",
       " (0.044874007566452996, 'existed_after'),\n",
       " (0.05476460591882306, 'instigation'),\n",
       " (0.1388891137391592, 'changes_possession'),\n",
       " (0.14267765891394693, 'destroyed'),\n",
       " (0.5336732889137092, 'created')]"
      ]
     },
     "execution_count": 8,
     "metadata": {},
     "output_type": "execute_result"
    }
   ],
   "source": [
    "comp_prop1"
   ]
  },
  {
   "cell_type": "markdown",
   "id": "metropolitan-momentum",
   "metadata": {},
   "source": [
    "# KMedoids\n",
    "\n",
    "from https://faculty.ucmerced.edu/mcarreira-perpinan/papers/lapkmodes-slides.pdf :\n",
    "\n",
    "> K-medoids: exemplars are generally valid but may be noisy or atypical.\n",
    "\n",
    "The K-mode algorithm seems interesting for that purpose."
   ]
  },
  {
   "cell_type": "code",
   "execution_count": 9,
   "id": "herbal-beast",
   "metadata": {},
   "outputs": [
    {
     "name": "stdout",
     "output_type": "stream",
     "text": [
      "[(0, 'awareness'), (0, 'change_of_location'), (0, 'changes_possession'), (0, 'exists_as_physical'), (0, 'instigation'), (0, 'location_of_event'), (0, 'makes_physical_contact'), (0, 'sentient'), (0, 'stationary'), (0, 'volition'), (1, 'created'), (1, 'destroyed'), (3, 'change_of_state'), (3, 'existed_after'), (3, 'existed_before'), (3, 'existed_during'), (3, 'manipulated_by_another'), (3, 'predicate_changed_argument')]\n",
      "[(0, 'changes_possession'), (0, 'location_of_event'), (0, 'manipulated_by_another'), (1, 'created'), (1, 'destroyed'), (1, 'predicate_changed_argument'), (2, 'change_of_location'), (2, 'change_of_state'), (2, 'makes_physical_contact'), (2, 'stationary'), (3, 'awareness'), (3, 'existed_after'), (3, 'existed_before'), (3, 'existed_during'), (3, 'exists_as_physical'), (3, 'instigation'), (3, 'sentient'), (3, 'volition')]\n"
     ]
    }
   ],
   "source": [
    "from sklearn_extra.cluster import KMedoids\n",
    "\n",
    "kmedoids = KMedoids(n_clusters=2, metric='hamming', init='k-medoids++').fit(args)\n",
    "comp_prop0 = sorted(zip(kmedoids.cluster_centers_[0], dataset.ordered_properties))\n",
    "comp_prop1 = sorted(zip(kmedoids.cluster_centers_[1], dataset.ordered_properties))\n",
    "print(comp_prop0)\n",
    "print(comp_prop1)"
   ]
  },
  {
   "cell_type": "code",
   "execution_count": 10,
   "id": "understanding-handling",
   "metadata": {},
   "outputs": [
    {
     "name": "stdout",
     "output_type": "stream",
     "text": [
      "[(0, 'awareness'), (0, 'change_of_location'), (0, 'changes_possession'), (0, 'exists_as_physical'), (0, 'instigation'), (0, 'location_of_event'), (0, 'makes_physical_contact'), (0, 'sentient'), (0, 'stationary'), (0, 'volition'), (1, 'created'), (1, 'destroyed'), (3, 'change_of_state'), (3, 'existed_after'), (3, 'existed_before'), (3, 'existed_during'), (3, 'manipulated_by_another'), (3, 'predicate_changed_argument')]\n",
      "[(0, 'changes_possession'), (0, 'location_of_event'), (0, 'manipulated_by_another'), (1, 'created'), (1, 'destroyed'), (1, 'predicate_changed_argument'), (2, 'change_of_location'), (2, 'change_of_state'), (2, 'makes_physical_contact'), (2, 'stationary'), (3, 'awareness'), (3, 'existed_after'), (3, 'existed_before'), (3, 'existed_during'), (3, 'exists_as_physical'), (3, 'instigation'), (3, 'sentient'), (3, 'volition')]\n"
     ]
    }
   ],
   "source": [
    "from sklearn_extra.cluster import KMedoids\n",
    "\n",
    "# method='pam' is supposed to be more accurate\n",
    "# kmedoids = KMedoids(n_clusters=2, metric='hamming', init='k-medoids++', method='pam').fit(args)\n",
    "comp_prop0 = sorted(zip(kmedoids.cluster_centers_[0], dataset.ordered_properties))\n",
    "comp_prop1 = sorted(zip(kmedoids.cluster_centers_[1], dataset.ordered_properties))\n",
    "print(comp_prop0)\n",
    "print(comp_prop1)"
   ]
  },
  {
   "cell_type": "markdown",
   "id": "irish-indianapolis",
   "metadata": {},
   "source": [
    "## Number of clusters\n",
    "\n",
    "What happens when we use more clusters?"
   ]
  },
  {
   "cell_type": "code",
   "execution_count": 11,
   "id": "spread-skirt",
   "metadata": {
    "scrolled": false
   },
   "outputs": [
    {
     "name": "stdout",
     "output_type": "stream",
     "text": [
      "0\n",
      "created 1\n",
      "destroyed 1\n",
      "instigation 1\n",
      "volition 1\n",
      "awareness 3\n",
      "change_of_state 3\n",
      "existed_after 3\n",
      "existed_before 3\n",
      "existed_during 3\n",
      "exists_as_physical 3\n",
      "manipulated_by_another 3\n",
      "predicate_changed_argument 3\n",
      "sentient 3\n",
      "1\n",
      "created 1\n",
      "destroyed 1\n",
      "existed_after 3\n",
      "existed_before 3\n",
      "existed_during 3\n",
      "manipulated_by_another 3\n",
      "2\n",
      "created 1\n",
      "destroyed 1\n",
      "predicate_changed_argument 1\n",
      "awareness 3\n",
      "existed_after 3\n",
      "existed_before 3\n",
      "existed_during 3\n",
      "exists_as_physical 3\n",
      "instigation 3\n",
      "sentient 3\n",
      "volition 3\n",
      "3\n",
      "created 1\n",
      "destroyed 1\n",
      "change_of_state 3\n",
      "existed_after 3\n",
      "existed_before 3\n",
      "existed_during 3\n",
      "manipulated_by_another 3\n",
      "predicate_changed_argument 3\n",
      "4\n",
      "manipulated_by_another 3\n",
      "5\n",
      "destroyed 1\n",
      "existed_before 1\n",
      "change_of_state 3\n",
      "created 3\n",
      "existed_after 3\n",
      "existed_during 3\n",
      "manipulated_by_another 3\n",
      "predicate_changed_argument 3\n"
     ]
    }
   ],
   "source": [
    "from sklearn_extra.cluster import KMedoids\n",
    "\n",
    "n=6\n",
    "\n",
    "kmedoids = KMedoids(n_clusters=n, metric='hamming', init='k-medoids++').fit(args)\n",
    "for i in range(0,n):\n",
    "    comp_prop = sorted(zip(kmedoids.cluster_centers_[i], dataset.ordered_properties))\n",
    "    print(i,)\n",
    "    for V, attr in comp_prop: \n",
    "        if V != 0 and V != 2:\n",
    "            print(attr, V,)"
   ]
  },
  {
   "cell_type": "markdown",
   "id": "noted-airport",
   "metadata": {},
   "source": [
    "The results of White are slightly different. In his \"computational linking theory\" paper, there is one proto-agent and several proto-patients. Here we find 2 agents with volition and instigation."
   ]
  },
  {
   "cell_type": "markdown",
   "id": "worse-carrier",
   "metadata": {},
   "source": [
    "# Prototypical structure of verb types\n",
    "\n",
    "Can we retrieve classical roles without looking at syntax? In other words, are classical roles simply proto-types in the semantic space?\n",
    "\n",
    "## Naive\n",
    "\n",
    "In the first part of the notebook, we test whether we can retrieve classical roles by clustering instances of arguments. It turns out we can. \n",
    "\n",
    "Aaron White's computational linking model is a bit different, because the prototype founds must explain the linguistic data. Here, there is no linguistic data at all.\n",
    "\n",
    "The naive version does:\n",
    "\n",
    "* First, run a k-medoid clustering algorithm on all the data. This algorithm works on categorical data, unlike k-means.\n",
    "* For each role of each verb, create histogram of arguments by taking the closest prototype.\n",
    "* Run k-means on these histograms to group them.\n",
    "    * __Problem__: So far, there is no constraint that the clustering respect the fact that different arguments of the same verb should belong to different clusters."
   ]
  },
  {
   "cell_type": "code",
   "execution_count": 12,
   "id": "boring-platform",
   "metadata": {},
   "outputs": [
    {
     "data": {
      "text/plain": [
       "array([[3, 2, 3, 0, 1, 1, 3, 3, 3, 3, 1, 0, 2, 3, 3, 3, 2, 1],\n",
       "       [0, 0, 2, 0, 1, 1, 3, 3, 3, 0, 0, 0, 0, 3, 0, 0, 0, 0],\n",
       "       [3, 2, 2, 0, 1, 1, 3, 3, 3, 3, 3, 0, 2, 0, 1, 3, 2, 3],\n",
       "       [0, 0, 3, 0, 1, 1, 3, 3, 3, 0, 0, 0, 0, 3, 3, 0, 0, 0],\n",
       "       [0, 0, 0, 0, 0, 0, 0, 0, 0, 0, 0, 0, 0, 3, 0, 0, 0, 0],\n",
       "       [0, 0, 3, 0, 3, 1, 3, 1, 3, 0, 0, 0, 0, 3, 3, 0, 0, 0]])"
      ]
     },
     "execution_count": 12,
     "metadata": {},
     "output_type": "execute_result"
    }
   ],
   "source": [
    "argument_prototypes = kmedoids.cluster_centers_\n",
    "argument_prototypes"
   ]
  },
  {
   "cell_type": "code",
   "execution_count": 26,
   "id": "ethical-fusion",
   "metadata": {
    "scrolled": false
   },
   "outputs": [],
   "source": [
    "from collections import defaultdict, Counter\n",
    "\n",
    "n_verb_types = Counter()\n",
    "# first, count verb types\n",
    "# this is useful because right now we discard verbs on which we don't have enough data\n",
    "for d in dataset:\n",
    "    sender_inputs, _, _ = d\n",
    "    roleset, _, _ = sender_inputs\n",
    "    n_verb_types[roleset] += 1\n",
    "# print(n_verb_types)\n",
    "\n",
    "# for each verb type, find the closest\n",
    "frequent_args = defaultdict(lambda: defaultdict(list))\n",
    "for d in dataset:\n",
    "    sender_inputs, _, _ = d\n",
    "    roleset, properties, to_send = sender_inputs\n",
    "    if n_verb_types[roleset] < 2:\n",
    "        continue\n",
    "#     else:\n",
    "#         print(\"H\")\n",
    "    for j, v in enumerate(to_send[1:]):\n",
    "        if v == 1:\n",
    "            # compute hamming distance and select the prototype with the least distance\n",
    "            diff = (properties[j] != argument_prototypes)\n",
    "            dist = diff.astype(int).sum(1)\n",
    "            frequent_args[roleset][j].append(dist.argmin())"
   ]
  },
  {
   "cell_type": "markdown",
   "id": "wrong-kingdom",
   "metadata": {},
   "source": [
    "At this point for each roleset and each argument j, a list of cluster assignments."
   ]
  },
  {
   "cell_type": "code",
   "execution_count": 27,
   "id": "current-smile",
   "metadata": {},
   "outputs": [],
   "source": [
    "# then we can compute a distribution for each by normalizing,\n",
    "args_distrib = defaultdict(dict)\n",
    "for roleset, A in frequent_args.items():\n",
    "    for arg_id, matched in A.items():\n",
    "        distrib = np.zeros(len(argument_prototypes), dtype=float)\n",
    "        np.add.at(distrib, np.asarray(matched), 1)\n",
    "        distrib /= len(matched)\n",
    "        args_distrib[roleset][arg_id] = distrib"
   ]
  },
  {
   "cell_type": "code",
   "execution_count": 67,
   "id": "acknowledged-bradley",
   "metadata": {
    "scrolled": false
   },
   "outputs": [],
   "source": [
    "# find clusters\n",
    "from sklearn.cluster import KMeans\n",
    "all_distribs = []\n",
    "for roleset, distribs in args_distrib.items():\n",
    "    all_distribs.extend(distribs.values())\n",
    "all_distribs = np.vstack(all_distribs)\n",
    "for K in range(80, 80):\n",
    "    model = KMeans(n_clusters=K).fit(all_distribs)\n",
    "    score = model.score(all_distribs)\n",
    "    BIC = -2 * score + np.log([len(all_distribs)])[0] * K\n",
    "    print(K, BIC)\n",
    "    arg_prototypes = model.cluster_centers_"
   ]
  },
  {
   "cell_type": "code",
   "execution_count": 68,
   "id": "composed-capitol",
   "metadata": {},
   "outputs": [
    {
     "data": {
      "text/plain": [
       "array([[ 2.08166817e-16,  6.10622664e-16,  9.99881587e-01,\n",
       "        -9.99200722e-16,  1.18413262e-04,  4.16333634e-17],\n",
       "       [ 8.08472795e-05,  9.99593143e-01, -1.05471187e-15,\n",
       "        -7.77156117e-16,  1.86364869e-04,  1.39645301e-04],\n",
       "       [ 3.45781466e-04,  0.00000000e+00, -9.43689571e-16,\n",
       "         9.99654219e-01,  1.66533454e-16, -4.16333634e-17],\n",
       "       [ 6.93889390e-18,  5.55111512e-17,  5.55111512e-17,\n",
       "         2.88888889e-01,  7.11111111e-01,  1.38777878e-17],\n",
       "       [ 5.55111512e-17, -5.55111512e-17,  2.22044605e-16,\n",
       "         1.94289029e-16, -1.11022302e-16,  1.00000000e+00],\n",
       "       [ 9.96321429e-01, -2.22044605e-16,  1.42857143e-03,\n",
       "         1.00000000e-03, -2.77555756e-17,  1.25000000e-03],\n",
       "       [-6.93889390e-18,  3.21840986e-01,  6.78159014e-01,\n",
       "         0.00000000e+00,  2.77555756e-17,  2.77555756e-17],\n",
       "       [ 2.08256547e-01,  5.05685619e-01,  3.69121562e-02,\n",
       "         2.04927991e-01,  2.04081633e-02,  2.38095238e-02],\n",
       "       [ 5.55111512e-17,  1.28266795e-03,  8.41750842e-04,\n",
       "         3.33066907e-16,  9.97875581e-01, -1.11022302e-16],\n",
       "       [ 1.64285714e-01,  5.55111512e-17,  2.21428571e-01,\n",
       "         5.80952381e-01,  1.38777878e-17,  3.33333333e-02],\n",
       "       [-6.93889390e-18,  6.49640374e-01,  7.30519481e-03,\n",
       "         2.80112045e-03,  3.35924306e-01,  4.32900433e-03],\n",
       "       [ 0.00000000e+00,  0.00000000e+00,  0.00000000e+00,\n",
       "         5.00000000e-01,  1.87500000e-01,  3.12500000e-01],\n",
       "       [-6.93889390e-18,  4.99014778e-01,  0.00000000e+00,\n",
       "         8.32667268e-17,  2.77555756e-17,  5.00985222e-01],\n",
       "       [ 3.60315066e-03,  6.63517960e-01,  3.26359997e-01,\n",
       "         0.00000000e+00,  4.46127946e-03,  2.05761317e-03],\n",
       "       [-6.93889390e-18,  3.17532468e-01,  0.00000000e+00,\n",
       "         6.82467532e-01,  1.38777878e-17,  0.00000000e+00],\n",
       "       [ 1.09539843e-02,  1.13213947e-02,  4.95491052e-01,\n",
       "         4.78814765e-01,  1.70940171e-03,  1.70940171e-03],\n",
       "       [ 4.22413793e-02,  1.96982759e-01,  2.46982759e-01,\n",
       "         2.90948276e-01,  8.62068966e-03,  2.14224138e-01],\n",
       "       [ 0.00000000e+00,  5.01963654e-01,  4.93307521e-01,\n",
       "         8.28500414e-04,  3.90032503e-03,  5.55111512e-17],\n",
       "       [ 6.93889390e-18,  5.55111512e-17,  5.55111512e-17,\n",
       "         2.77555756e-17,  3.33333333e-01,  6.66666667e-01],\n",
       "       [ 4.73333333e-01, -5.55111512e-17,  5.06666667e-01,\n",
       "         1.00000000e-02,  0.00000000e+00,  1.00000000e-02],\n",
       "       [ 3.48432056e-03,  4.85341657e-01,  2.43902439e-03,\n",
       "        -5.55111512e-17,  5.07108982e-01,  1.62601626e-03],\n",
       "       [ 0.00000000e+00,  4.93292873e-01,  1.11022302e-16,\n",
       "         4.96965453e-01,  4.46623094e-03,  5.27544351e-03],\n",
       "       [ 4.75122100e-01,  9.61538462e-03, -5.55111512e-17,\n",
       "         4.65201465e-01,  1.70940171e-02,  3.29670330e-02],\n",
       "       [ 0.00000000e+00, -5.55111512e-17,  5.00000000e-01,\n",
       "         0.00000000e+00,  5.00000000e-01,  0.00000000e+00],\n",
       "       [ 3.78071834e-03,  8.12854442e-03,  7.07897429e-01,\n",
       "         2.68116013e-01,  1.20772947e-02,  2.77555756e-17],\n",
       "       [ 5.11904762e-01,  4.88095238e-01,  0.00000000e+00,\n",
       "         2.77555756e-17,  1.38777878e-17,  0.00000000e+00],\n",
       "       [ 9.25925926e-03,  5.59964727e-02,  0.00000000e+00,\n",
       "         4.67372134e-01,  4.51499118e-01,  1.58730159e-02],\n",
       "       [ 2.34567901e-02,  6.58477633e-01,  1.11111111e-02,\n",
       "         1.01010101e-02,  1.54248838e-01,  1.42604618e-01],\n",
       "       [ 2.27272727e-02,  4.24242424e-02,  0.00000000e+00,\n",
       "         5.45454545e-02,  6.40909091e-01,  2.39393939e-01],\n",
       "       [ 0.00000000e+00,  6.39275104e-01,  5.88235294e-03,\n",
       "         3.42959002e-01,  5.34759358e-03,  6.53594771e-03],\n",
       "       [-6.93889390e-18,  3.01196581e-01,  4.44444444e-03,\n",
       "         2.77555756e-17,  6.89914530e-01,  4.44444444e-03],\n",
       "       [ 0.00000000e+00,  3.01678877e-01,  0.00000000e+00,\n",
       "         1.10561661e-01,  2.61080586e-01,  3.26678877e-01],\n",
       "       [ 2.14646465e-02,  5.55111512e-17,  0.00000000e+00,\n",
       "         2.89646465e-01,  5.68181818e-03,  6.83207071e-01],\n",
       "       [ 3.20512821e-03,  2.00663943e-01,  7.83147080e-01,\n",
       "         9.01559454e-03,  2.77555756e-17,  3.96825397e-03],\n",
       "       [ 8.54700855e-03,  4.13825735e-01,  2.81239730e-01,\n",
       "         1.01010101e-02,  2.26358699e-01,  5.99278173e-02],\n",
       "       [ 0.00000000e+00,  2.77777778e-02,  4.44444444e-01,\n",
       "         0.00000000e+00,  0.00000000e+00,  5.27777778e-01],\n",
       "       [-6.93889390e-18,  1.50579378e-01,  0.00000000e+00,\n",
       "         8.49420622e-01,  2.77555756e-17,  0.00000000e+00],\n",
       "       [ 1.59555640e-01,  6.65380698e-01,  0.00000000e+00,\n",
       "         2.77555756e-17,  1.75063662e-01,  0.00000000e+00],\n",
       "       [ 1.38888889e-02,  3.26345756e-01,  3.29917184e-01,\n",
       "         3.19266161e-01,  1.05820106e-02,  0.00000000e+00],\n",
       "       [ 3.55102041e-01,  3.05102041e-01,  2.85714286e-02,\n",
       "         2.76530612e-01,  2.04081633e-02,  1.42857143e-02],\n",
       "       [ 6.06060606e-03,  7.49783550e-01,  1.51515152e-02,\n",
       "         2.51082251e-02,  1.38777878e-17,  2.03896104e-01],\n",
       "       [ 2.57575758e-02,  2.35471195e-01,  0.00000000e+00,\n",
       "         9.09090909e-03,  2.53846154e-02,  7.04295704e-01],\n",
       "       [ 1.16959064e-02,  4.09746589e-01,  2.78947368e-01,\n",
       "         1.16959064e-02,  1.38777878e-17,  2.87914230e-01],\n",
       "       [ 0.00000000e+00,  5.55111512e-17,  3.18533550e-01,\n",
       "         6.75514069e-01,  2.77555756e-17,  5.95238095e-03],\n",
       "       [ 3.36700337e-02,  1.19654882e-01,  2.07491582e-01,\n",
       "         1.66666667e-02,  2.94991582e-01,  3.27525253e-01],\n",
       "       [ 1.23456790e-02,  3.19444444e-01,  6.94444444e-03,\n",
       "         3.07098765e-01,  2.22222222e-02,  3.31944444e-01],\n",
       "       [ 7.88888889e-01,  1.11111111e-01,  0.00000000e+00,\n",
       "         0.00000000e+00,  1.00000000e-01,  0.00000000e+00],\n",
       "       [-6.93889390e-18,  1.51515152e-02,  0.00000000e+00,\n",
       "         2.42424242e-02,  4.93939394e-01,  4.66666667e-01],\n",
       "       [ 2.59331956e-01,  1.01010101e-02,  0.00000000e+00,\n",
       "         6.91930670e-01,  2.95454545e-02,  9.09090909e-03],\n",
       "       [-6.93889390e-18,  8.43123555e-01,  1.45148050e-01,\n",
       "         8.32667268e-17,  1.17283951e-02,  0.00000000e+00],\n",
       "       [ 3.50877193e-03,  8.34315392e-01,  7.01754386e-03,\n",
       "         8.32667268e-17,  1.55158292e-01,  0.00000000e+00],\n",
       "       [ 1.50238095e-01,  1.46904762e-01,  6.74285714e-01,\n",
       "         0.00000000e+00,  2.85714286e-02,  0.00000000e+00],\n",
       "       [-6.93889390e-18, -5.55111512e-17,  0.00000000e+00,\n",
       "         6.58333333e-01,  3.41666667e-01,  0.00000000e+00],\n",
       "       [ 2.81818182e-02,  4.63596491e-02,  0.00000000e+00,\n",
       "         3.77777778e-02,  2.77777778e-02,  8.59902977e-01],\n",
       "       [ 1.85185185e-02,  2.40843470e-01,  5.26734952e-01,\n",
       "         1.90557471e-01,  8.33333333e-03,  1.50122549e-02],\n",
       "       [ 6.70000000e-01, -5.55111512e-17,  0.00000000e+00,\n",
       "         3.30000000e-01, -1.38777878e-17,  0.00000000e+00],\n",
       "       [ 6.66666667e-01,  0.00000000e+00,  0.00000000e+00,\n",
       "         0.00000000e+00,  0.00000000e+00,  3.33333333e-01],\n",
       "       [ 1.78571429e-02,  1.78802203e-01,  2.26300293e-01,\n",
       "         3.44733575e-01,  2.05100904e-01,  2.72058824e-02],\n",
       "       [-6.93889390e-18, -5.55111512e-17,  0.00000000e+00,\n",
       "         5.00000000e-01,  0.00000000e+00,  5.00000000e-01],\n",
       "       [ 2.11054422e-01,  4.14030612e-01,  3.49914966e-01,\n",
       "         7.14285714e-03,  1.78571429e-02,  0.00000000e+00],\n",
       "       [-6.93889390e-18,  6.15432099e-01,  1.86111111e-01,\n",
       "         0.00000000e+00,  1.86111111e-01,  1.23456790e-02],\n",
       "       [ 0.00000000e+00,  2.26190476e-01,  1.58730159e-02,\n",
       "         1.82539683e-01,  1.58730159e-02,  5.59523810e-01],\n",
       "       [ 0.00000000e+00,  2.06150794e-01,  6.05555556e-01,\n",
       "         2.77555756e-17,  1.88293651e-01,  0.00000000e+00],\n",
       "       [-6.93889390e-18,  6.60000000e-01,  1.00000000e-02,\n",
       "         0.00000000e+00,  0.00000000e+00,  3.30000000e-01],\n",
       "       [ 2.59307359e-01,  7.40692641e-01,  0.00000000e+00,\n",
       "         0.00000000e+00,  1.38777878e-17,  0.00000000e+00],\n",
       "       [-6.93889390e-18,  7.63636364e-02,  6.63939394e-01,\n",
       "         0.00000000e+00, -1.38777878e-17,  2.59696970e-01],\n",
       "       [ 4.44444444e-03,  8.36136840e-02,  8.82687090e-01,\n",
       "         2.26741363e-02,  2.58064516e-03,  4.00000000e-03],\n",
       "       [ 0.00000000e+00,  7.68406234e-01,  1.06837607e-02,\n",
       "         2.20910005e-01,  1.38777878e-17,  0.00000000e+00],\n",
       "       [ 0.00000000e+00,  0.00000000e+00,  1.47619048e-01,\n",
       "         8.52380952e-01,  1.38777878e-17,  0.00000000e+00],\n",
       "       [-6.93889390e-18,  4.82738095e-01,  1.59523810e-01,\n",
       "         3.23214286e-01,  1.38777878e-17,  3.45238095e-02],\n",
       "       [ 6.85714286e-02,  3.10476190e-01,  0.00000000e+00,\n",
       "         3.10476190e-01,  3.10476190e-01,  0.00000000e+00],\n",
       "       [ 0.00000000e+00,  2.63157895e-02,  0.00000000e+00,\n",
       "         6.75219298e-01,  1.17982456e-01,  1.80482456e-01],\n",
       "       [ 2.85714286e-02,  2.03015873e-01,  0.00000000e+00,\n",
       "         5.43174603e-01,  2.22222222e-02,  2.03015873e-01],\n",
       "       [ 1.68067227e-02,  6.38957121e-01,  0.00000000e+00,\n",
       "         1.70530776e-01,  1.73705380e-01,  0.00000000e+00],\n",
       "       [ 5.00000000e-01,  0.00000000e+00,  0.00000000e+00,\n",
       "         0.00000000e+00,  5.00000000e-01,  0.00000000e+00],\n",
       "       [ 0.00000000e+00,  0.00000000e+00,  3.48484848e-01,\n",
       "         3.25757576e-01,  0.00000000e+00,  3.25757576e-01],\n",
       "       [-6.93889390e-18,  4.29624230e-01,  3.89455439e-01,\n",
       "         1.66022186e-01,  1.48981453e-02,  0.00000000e+00],\n",
       "       [ 6.80272109e-03,  7.93650794e-03,  0.00000000e+00,\n",
       "         8.65052688e-01,  1.11804722e-01,  8.40336134e-03],\n",
       "       [ 1.73214286e-01,  3.33928571e-01,  6.07142857e-02,\n",
       "         4.32142857e-01,  0.00000000e+00,  0.00000000e+00],\n",
       "       [ 2.50000000e-01,  8.33333333e-02,  2.50000000e-01,\n",
       "         0.00000000e+00,  4.16666667e-01,  0.00000000e+00],\n",
       "       [ 3.86904762e-02,  1.42910543e-01,  7.46076840e-02,\n",
       "         7.30633402e-01,  1.38777878e-17,  1.31578947e-02],\n",
       "       [ 0.00000000e+00,  4.60158730e-01,  0.00000000e+00,\n",
       "         1.44126984e-01,  1.42857143e-02,  3.81428571e-01],\n",
       "       [ 0.00000000e+00,  2.40829514e-01,  2.42681012e-01,\n",
       "         5.16489475e-01,  0.00000000e+00,  0.00000000e+00],\n",
       "       [ 4.78632479e-02,  8.69383394e-01, -5.55111512e-17,\n",
       "         8.27533578e-02,  1.38777878e-17, -1.38777878e-17],\n",
       "       [ 4.78468900e-03,  3.86527946e-01,  5.95320615e-01,\n",
       "         5.84795322e-03,  7.51879699e-03,  1.38777878e-17],\n",
       "       [ 2.38095238e-02,  1.19047619e-02,  0.00000000e+00,\n",
       "         6.03061224e-01,  1.38777878e-17,  3.61224490e-01],\n",
       "       [ 6.66666667e-02,  3.84615385e-02,  0.00000000e+00,\n",
       "         2.93589744e-01,  2.76923077e-01,  3.24358974e-01],\n",
       "       [-6.93889390e-18,  6.43136724e-01,  2.00901876e-01,\n",
       "         1.55961400e-01,  1.38777878e-17,  0.00000000e+00],\n",
       "       [-6.93889390e-18,  5.40846653e-01,  0.00000000e+00,\n",
       "         0.00000000e+00,  2.36059774e-01,  2.23093573e-01],\n",
       "       [ 2.19780220e-02,  7.08529566e-02,  7.73521716e-01,\n",
       "         2.77555756e-17,  1.23443223e-01,  1.02040816e-02],\n",
       "       [ 0.00000000e+00,  0.00000000e+00,  6.33333333e-01,\n",
       "         1.83333333e-01,  0.00000000e+00,  1.83333333e-01]])"
      ]
     },
     "execution_count": 68,
     "metadata": {},
     "output_type": "execute_result"
    }
   ],
   "source": [
    "arg_prototypes"
   ]
  },
  {
   "cell_type": "code",
   "execution_count": 69,
   "id": "narrative-rehabilitation",
   "metadata": {},
   "outputs": [
    {
     "name": "stdout",
     "output_type": "stream",
     "text": [
      "49 Counter({0: 13, 2: 3, 1: 2}) [0.7222222222222222, 0.16666666666666666, 0.1111111111111111]\n",
      "40 Counter({1: 8, 2: 3}) [0.7272727272727273, 0.2727272727272727]\n",
      "48 Counter({1: 10, 2: 1}) [0.9090909090909091, 0.09090909090909091]\n",
      "0 Counter({0: 477, 1: 65, 2: 21}) [0.8472468916518651, 0.11545293072824156, 0.037300177619893425]\n",
      "36 Counter({1: 13, 0: 2, 2: 1}) [0.8125, 0.125, 0.0625]\n",
      "1 Counter({1: 309, 0: 214, 2: 128}) [0.47465437788018433, 0.32872503840245776, 0.1966205837173579]\n",
      "2 Counter({1: 350, 0: 76, 2: 56}) [0.7261410788381742, 0.15767634854771784, 0.11618257261410789]\n",
      "84 Counter({0: 19}) [1.0]\n",
      "10 Counter({1: 13, 0: 4, 2: 4}) [0.6190476190476191, 0.19047619047619047, 0.19047619047619047]\n",
      "34 Counter({0: 5, 1: 3, 2: 1}) [0.5555555555555556, 0.3333333333333333, 0.1111111111111111]\n",
      "15 Counter({0: 31, 1: 12, 2: 2}) [0.6888888888888889, 0.26666666666666666, 0.044444444444444446]\n",
      "21 Counter({1: 28, 0: 11, 2: 6}) [0.6222222222222222, 0.24444444444444444, 0.13333333333333333]\n",
      "87 Counter({0: 8}) [1.0]\n",
      "20 Counter({1: 26, 2: 13, 0: 2}) [0.6341463414634146, 0.3170731707317073, 0.04878048780487805]\n",
      "8 Counter({2: 106, 1: 72, 0: 20}) [0.5353535353535354, 0.36363636363636365, 0.10101010101010101]\n",
      "5 Counter({1: 68, 2: 18, 0: 14}) [0.68, 0.18, 0.14]\n",
      "80 Counter({0: 5, 1: 3}) [0.625, 0.375]\n",
      "66 Counter({0: 23, 1: 2}) [0.92, 0.08]\n",
      "52 Counter({1: 3, 2: 2}) [0.6, 0.4]\n",
      "55 Counter({1: 3, 2: 2}) [0.6, 0.4]\n",
      "17 Counter({0: 48, 1: 13, 2: 10}) [0.676056338028169, 0.18309859154929578, 0.14084507042253522]\n",
      "4 Counter({1: 77, 2: 35, 0: 11}) [0.6260162601626016, 0.2845528455284553, 0.08943089430894309]\n",
      "65 Counter({0: 4, 1: 1}) [0.8, 0.2]\n",
      "57 Counter({0: 4, 1: 3, 2: 1}) [0.5, 0.375, 0.125]\n",
      "88 Counter({1: 7, 2: 1}) [0.875, 0.125]\n",
      "42 Counter({0: 6, 1: 3}) [0.6666666666666666, 0.3333333333333333]\n",
      "6 Counter({0: 32, 1: 1}) [0.9696969696969697, 0.030303030303030304]\n",
      "67 Counter({1: 9, 0: 4, 2: 2}) [0.6, 0.26666666666666666, 0.13333333333333333]\n",
      "89 Counter({0: 7}) [1.0]\n",
      "81 Counter({1: 3, 0: 2}) [0.6, 0.4]\n",
      "28 Counter({1: 6, 2: 5}) [0.5454545454545454, 0.45454545454545453]\n",
      "77 Counter({1: 7}) [1.0]\n",
      "27 Counter({1: 7, 0: 2}) [0.7777777777777778, 0.2222222222222222]\n",
      "50 Counter({1: 11, 0: 2, 2: 2}) [0.7333333333333333, 0.13333333333333333, 0.13333333333333333]\n",
      "31 Counter({1: 5, 0: 1}) [0.8333333333333334, 0.16666666666666666]\n",
      "51 Counter({0: 4, 1: 1}) [0.8, 0.2]\n",
      "12 Counter({1: 18, 2: 7, 0: 4}) [0.6206896551724138, 0.2413793103448276, 0.13793103448275862]\n",
      "61 Counter({1: 6, 2: 1}) [0.8571428571428571, 0.14285714285714285]\n",
      "71 Counter({1: 3, 2: 1}) [0.75, 0.25]\n",
      "76 Counter({0: 11}) [1.0]\n",
      "60 Counter({1: 4, 0: 4, 2: 1}) [0.4444444444444444, 0.4444444444444444, 0.1111111111111111]\n",
      "83 Counter({1: 11, 0: 2}) [0.8461538461538461, 0.15384615384615385]\n",
      "26 Counter({1: 6, 2: 3}) [0.6666666666666666, 0.3333333333333333]\n",
      "62 Counter({0: 5, 1: 2}) [0.7142857142857143, 0.2857142857142857]\n",
      "29 Counter({1: 9, 0: 5, 2: 3}) [0.5294117647058824, 0.29411764705882354, 0.17647058823529413]\n",
      "86 Counter({2: 2, 1: 2}) [0.5, 0.5]\n",
      "24 Counter({0: 21, 1: 2}) [0.9130434782608695, 0.08695652173913043]\n",
      "69 Counter({0: 7, 1: 1}) [0.875, 0.125]\n",
      "14 Counter({1: 13, 0: 5, 2: 4}) [0.5909090909090909, 0.22727272727272727, 0.18181818181818182]\n",
      "18 Counter({1: 2, 2: 1}) [0.6666666666666666, 0.3333333333333333]\n",
      "33 Counter({0: 22, 1: 1, 2: 1}) [0.9166666666666666, 0.041666666666666664, 0.041666666666666664]\n",
      "19 Counter({1: 6, 0: 4}) [0.6, 0.4]\n",
      "39 Counter({1: 6, 2: 1}) [0.8571428571428571, 0.14285714285714285]\n",
      "43 Counter({0: 14}) [1.0]\n",
      "85 Counter({1: 5, 2: 1, 0: 1}) [0.7142857142857143, 0.14285714285714285, 0.14285714285714285]\n",
      "13 Counter({0: 44, 1: 8, 2: 2}) [0.8148148148148148, 0.14814814814814814, 0.037037037037037035]\n",
      "58 Counter({1: 10}) [1.0]\n",
      "30 Counter({1: 7, 2: 7, 0: 1}) [0.4666666666666667, 0.4666666666666667, 0.06666666666666667]\n",
      "25 Counter({1: 10, 2: 4}) [0.7142857142857143, 0.2857142857142857]\n",
      "23 Counter({0: 2, 1: 2, 2: 1}) [0.4, 0.4, 0.2]\n",
      "79 Counter({1: 2}) [1.0]\n",
      "64 Counter({1: 10, 0: 1}) [0.9090909090909091, 0.09090909090909091]\n",
      "59 Counter({0: 4, 1: 3}) [0.5714285714285714, 0.42857142857142855]\n",
      "44 Counter({1: 6}) [1.0]\n",
      "47 Counter({1: 8, 2: 3}) [0.7272727272727273, 0.2727272727272727]\n",
      "46 Counter({2: 1, 1: 1}) [0.5, 0.5]\n",
      "73 Counter({1: 5, 0: 2}) [0.7142857142857143, 0.2857142857142857]\n",
      "38 Counter({0: 7, 1: 2}) [0.7777777777777778, 0.2222222222222222]\n",
      "78 Counter({2: 2, 1: 1, 0: 1}) [0.5, 0.25, 0.25]\n",
      "41 Counter({1: 8, 2: 2}) [0.8, 0.2]\n",
      "63 Counter({1: 6, 2: 3, 0: 1}) [0.6, 0.3, 0.1]\n",
      "54 Counter({0: 12}) [1.0]\n",
      "3 Counter({1: 2, 2: 1}) [0.6666666666666666, 0.3333333333333333]\n",
      "45 Counter({1: 8, 0: 1}) [0.8888888888888888, 0.1111111111111111]\n",
      "37 Counter({1: 3, 2: 2, 0: 2}) [0.42857142857142855, 0.2857142857142857, 0.2857142857142857]\n",
      "7 Counter({0: 4, 1: 2, 2: 1}) [0.5714285714285714, 0.2857142857142857, 0.14285714285714285]\n",
      "22 Counter({1: 12, 2: 1}) [0.9230769230769231, 0.07692307692307693]\n",
      "68 Counter({0: 4, 1: 2}) [0.6666666666666666, 0.3333333333333333]\n",
      "72 Counter({1: 3, 0: 1, 2: 1}) [0.6, 0.2, 0.2]\n",
      "32 Counter({1: 7, 2: 2, 0: 2}) [0.6363636363636364, 0.18181818181818182, 0.18181818181818182]\n",
      "53 Counter({1: 6, 2: 4}) [0.6, 0.4]\n",
      "11 Counter({1: 1, 2: 1}) [0.5, 0.5]\n",
      "82 Counter({0: 8}) [1.0]\n",
      "35 Counter({0: 3, 1: 1}) [0.75, 0.25]\n",
      "70 Counter({1: 3, 2: 2}) [0.6, 0.4]\n",
      "75 Counter({0: 3, 1: 1}) [0.75, 0.25]\n",
      "16 Counter({1: 2, 0: 2}) [0.5, 0.5]\n",
      "9 Counter({1: 2, 0: 1}) [0.6666666666666666, 0.3333333333333333]\n",
      "56 Counter({1: 2}) [1.0]\n",
      "90 Counter({0: 2}) [1.0]\n",
      "74 Counter({2: 1}) [1.0]\n"
     ]
    }
   ],
   "source": [
    "classical_role_binning = defaultdict(Counter)\n",
    "for roleset, distribs in args_distrib.items():\n",
    "    for arg_id, distrib in distribs.items():\n",
    "        L2_to_prototypes = ((distrib-arg_prototypes)**2).sum(1)\n",
    "        assigned = L2_to_prototypes.argmin()\n",
    "        classical_role_binning[assigned][arg_id] += 1\n",
    "\n",
    "for id_, classical_roles in classical_role_binning.items():\n",
    "    norm_roles = np.asarray(list(classical_roles.values()), dtype=float)\n",
    "    norm_roles /= norm_roles.sum()\n",
    "    print(id_, classical_roles, sorted(norm_roles, reverse=True))"
   ]
  },
  {
   "cell_type": "code",
   "execution_count": 70,
   "id": "announced-vampire",
   "metadata": {},
   "outputs": [
    {
     "name": "stdout",
     "output_type": "stream",
     "text": [
      "0.6832219038522763\n"
     ]
    }
   ],
   "source": [
    "# let's compute purity\n",
    "n_points = 0\n",
    "correct_points = 0\n",
    "for id_, classical_roles in classical_role_binning.items():\n",
    "    id_most_common, val_most_common = classical_roles.most_common(1)[0]\n",
    "    n_points += sum(classical_roles.values())\n",
    "    correct_points += val_most_common\n",
    "print(correct_points/n_points)"
   ]
  },
  {
   "cell_type": "markdown",
   "id": "deadly-payday",
   "metadata": {},
   "source": [
    "## Results\n",
    "\n",
    "We can see that some bins closely correspond to classical roles: bin 0, 6 and 2 are very agent-like, 5, 7, 1 are more patient like and some like 3 and 4 correspond to other roles more."
   ]
  },
  {
   "cell_type": "markdown",
   "id": "functional-genome",
   "metadata": {},
   "source": [
    "## Implementing constraint\n",
    "\n",
    "Once we have k-means clusters, what happens if we constrain the different argument histograms of the same verb to have different assignments? Does it improve purity?"
   ]
  },
  {
   "cell_type": "code",
   "execution_count": 71,
   "id": "negative-trinity",
   "metadata": {},
   "outputs": [
    {
     "name": "stdout",
     "output_type": "stream",
     "text": [
      "49 Counter({0: 13, 2: 9, 1: 2}) [0.5416666666666666, 0.375, 0.08333333333333333]\n",
      "40 Counter({1: 8, 2: 3}) [0.7272727272727273, 0.2727272727272727]\n",
      "48 Counter({1: 10, 2: 1}) [0.9090909090909091, 0.09090909090909091]\n",
      "0 Counter({0: 477, 1: 40, 2: 12}) [0.9017013232514177, 0.07561436672967864, 0.022684310018903593]\n",
      "36 Counter({1: 14, 0: 2, 2: 1}) [0.8235294117647058, 0.11764705882352941, 0.058823529411764705]\n",
      "1 Counter({1: 253, 0: 214, 2: 80}) [0.4625228519195612, 0.3912248628884826, 0.14625228519195613]\n",
      "2 Counter({1: 310, 0: 75, 2: 34}) [0.7398568019093079, 0.17899761336515513, 0.081145584725537]\n",
      "84 Counter({0: 20, 1: 1}) [0.9523809523809523, 0.047619047619047616]\n",
      "10 Counter({1: 15, 0: 4, 2: 4}) [0.6521739130434783, 0.17391304347826086, 0.17391304347826086]\n",
      "34 Counter({0: 5, 1: 3, 2: 1}) [0.5555555555555556, 0.3333333333333333, 0.1111111111111111]\n",
      "15 Counter({0: 31, 1: 12, 2: 2}) [0.6888888888888889, 0.26666666666666666, 0.044444444444444446]\n",
      "21 Counter({1: 27, 0: 11, 2: 5}) [0.627906976744186, 0.2558139534883721, 0.11627906976744186]\n",
      "83 Counter({1: 67, 2: 42, 0: 2}) [0.6036036036036037, 0.3783783783783784, 0.018018018018018018]\n",
      "87 Counter({0: 8}) [1.0]\n",
      "20 Counter({1: 24, 2: 13, 0: 2}) [0.6153846153846154, 0.3333333333333333, 0.05128205128205128]\n",
      "8 Counter({2: 100, 1: 63, 0: 20}) [0.546448087431694, 0.3442622950819672, 0.1092896174863388]\n",
      "3 Counter({1: 11, 2: 5}) [0.6875, 0.3125]\n",
      "5 Counter({1: 68, 2: 17, 0: 14}) [0.6868686868686869, 0.1717171717171717, 0.1414141414141414]\n",
      "80 Counter({0: 5, 1: 3}) [0.625, 0.375]\n",
      "66 Counter({1: 27, 0: 23, 2: 9}) [0.4576271186440678, 0.3898305084745763, 0.15254237288135594]\n",
      "52 Counter({1: 3, 2: 2}) [0.6, 0.4]\n",
      "55 Counter({1: 3, 2: 2}) [0.6, 0.4]\n",
      "17 Counter({0: 47, 1: 12, 2: 10}) [0.6811594202898551, 0.17391304347826086, 0.14492753623188406]\n",
      "4 Counter({1: 77, 2: 34, 0: 11}) [0.6311475409836066, 0.2786885245901639, 0.09016393442622951]\n",
      "65 Counter({0: 4, 1: 1}) [0.8, 0.2]\n",
      "57 Counter({0: 4, 1: 3, 2: 1}) [0.5, 0.375, 0.125]\n",
      "88 Counter({1: 7, 2: 1}) [0.875, 0.125]\n",
      "42 Counter({0: 6, 1: 3}) [0.6666666666666666, 0.3333333333333333]\n",
      "6 Counter({0: 32, 1: 1}) [0.9696969696969697, 0.030303030303030304]\n",
      "67 Counter({1: 9, 0: 4, 2: 2}) [0.6, 0.26666666666666666, 0.13333333333333333]\n",
      "89 Counter({0: 7}) [1.0]\n",
      "81 Counter({1: 3, 0: 2}) [0.6, 0.4]\n",
      "28 Counter({1: 6, 2: 5}) [0.5454545454545454, 0.45454545454545453]\n",
      "77 Counter({1: 47, 2: 21, 0: 1}) [0.6811594202898551, 0.30434782608695654, 0.014492753623188406]\n",
      "27 Counter({1: 7, 0: 2}) [0.7777777777777778, 0.2222222222222222]\n",
      "50 Counter({1: 12, 0: 2, 2: 2}) [0.75, 0.125, 0.125]\n",
      "31 Counter({1: 5, 0: 1}) [0.8333333333333334, 0.16666666666666666]\n",
      "51 Counter({0: 4, 1: 1}) [0.8, 0.2]\n",
      "12 Counter({1: 18, 2: 7, 0: 4}) [0.6206896551724138, 0.2413793103448276, 0.13793103448275862]\n",
      "61 Counter({1: 6, 2: 1}) [0.8571428571428571, 0.14285714285714285]\n",
      "71 Counter({1: 3, 2: 1}) [0.75, 0.25]\n",
      "76 Counter({0: 11}) [1.0]\n",
      "60 Counter({1: 4, 0: 4, 2: 1}) [0.4444444444444444, 0.4444444444444444, 0.1111111111111111]\n",
      "26 Counter({1: 6, 2: 3}) [0.6666666666666666, 0.3333333333333333]\n",
      "62 Counter({0: 5, 1: 2}) [0.7142857142857143, 0.2857142857142857]\n",
      "29 Counter({1: 10, 0: 5, 2: 4}) [0.5263157894736842, 0.2631578947368421, 0.21052631578947367]\n",
      "86 Counter({2: 2, 1: 2}) [0.5, 0.5]\n",
      "24 Counter({0: 21, 1: 2}) [0.9130434782608695, 0.08695652173913043]\n",
      "69 Counter({0: 7, 1: 1}) [0.875, 0.125]\n",
      "14 Counter({1: 12, 0: 5, 2: 4}) [0.5714285714285714, 0.23809523809523808, 0.19047619047619047]\n",
      "18 Counter({1: 2}) [1.0]\n",
      "47 Counter({1: 8, 2: 4}) [0.6666666666666666, 0.3333333333333333]\n",
      "33 Counter({0: 22, 1: 1, 2: 1}) [0.9166666666666666, 0.041666666666666664, 0.041666666666666664]\n",
      "19 Counter({1: 6, 0: 4}) [0.6, 0.4]\n",
      "39 Counter({1: 6, 2: 1}) [0.8571428571428571, 0.14285714285714285]\n",
      "43 Counter({0: 14}) [1.0]\n",
      "85 Counter({1: 5, 2: 1, 0: 1}) [0.7142857142857143, 0.14285714285714285, 0.14285714285714285]\n",
      "13 Counter({0: 44, 1: 8, 2: 2}) [0.8148148148148148, 0.14814814814814814, 0.037037037037037035]\n",
      "58 Counter({1: 10}) [1.0]\n",
      "30 Counter({2: 9, 1: 7, 0: 1}) [0.5294117647058824, 0.4117647058823529, 0.058823529411764705]\n",
      "25 Counter({1: 10, 2: 4}) [0.7142857142857143, 0.2857142857142857]\n",
      "23 Counter({0: 2, 2: 1, 1: 1}) [0.5, 0.25, 0.25]\n",
      "79 Counter({1: 3, 2: 1}) [0.75, 0.25]\n",
      "64 Counter({1: 10, 0: 1}) [0.9090909090909091, 0.09090909090909091]\n",
      "59 Counter({0: 4, 1: 3}) [0.5714285714285714, 0.42857142857142855]\n",
      "44 Counter({1: 6}) [1.0]\n",
      "46 Counter({1: 3, 2: 2}) [0.6, 0.4]\n",
      "73 Counter({1: 5, 0: 2}) [0.7142857142857143, 0.2857142857142857]\n",
      "38 Counter({0: 7, 1: 2}) [0.7777777777777778, 0.2222222222222222]\n",
      "78 Counter({2: 2, 1: 1, 0: 1}) [0.5, 0.25, 0.25]\n",
      "41 Counter({1: 8, 2: 2}) [0.8, 0.2]\n",
      "63 Counter({1: 6, 2: 3, 0: 1}) [0.6, 0.3, 0.1]\n",
      "54 Counter({0: 12}) [1.0]\n",
      "45 Counter({1: 8, 0: 1}) [0.8888888888888888, 0.1111111111111111]\n",
      "37 Counter({2: 2, 0: 2, 1: 2}) [0.3333333333333333, 0.3333333333333333, 0.3333333333333333]\n",
      "7 Counter({0: 4, 1: 2, 2: 1}) [0.5714285714285714, 0.2857142857142857, 0.14285714285714285]\n",
      "22 Counter({1: 12, 2: 1}) [0.9230769230769231, 0.07692307692307693]\n",
      "68 Counter({0: 4, 1: 2, 2: 1}) [0.5714285714285714, 0.2857142857142857, 0.14285714285714285]\n",
      "72 Counter({1: 3, 0: 1, 2: 1}) [0.6, 0.2, 0.2]\n",
      "32 Counter({1: 7, 2: 2, 0: 2}) [0.6363636363636364, 0.18181818181818182, 0.18181818181818182]\n",
      "53 Counter({1: 6, 2: 5}) [0.5454545454545454, 0.45454545454545453]\n",
      "11 Counter({1: 1, 2: 1}) [0.5, 0.5]\n",
      "82 Counter({0: 8}) [1.0]\n",
      "35 Counter({0: 3, 1: 1}) [0.75, 0.25]\n",
      "70 Counter({1: 3, 2: 2}) [0.6, 0.4]\n",
      "75 Counter({0: 3, 1: 1}) [0.75, 0.25]\n",
      "16 Counter({1: 2, 0: 2}) [0.5, 0.5]\n",
      "9 Counter({1: 2, 0: 1}) [0.6666666666666666, 0.3333333333333333]\n",
      "90 Counter({0: 2}) [1.0]\n"
     ]
    }
   ],
   "source": [
    "from scipy.sparse import csr_matrix\n",
    "from scipy.sparse.csgraph import min_weight_full_bipartite_matching\n",
    "\n",
    "classical_role_binning = defaultdict(Counter)\n",
    "for roleset, distribs in args_distrib.items():\n",
    "    distances = []\n",
    "    assigned_no_constraints = []\n",
    "    for arg_id, distrib in distribs.items():\n",
    "        d = ((distrib-arg_prototypes)**2).sum(1)\n",
    "        assigned_no_constraints.append(d.argmin())\n",
    "        distances.append(d)\n",
    "    distances = csr_matrix(np.asarray(distances))\n",
    "    assign = min_weight_full_bipartite_matching(distances)\n",
    "    #print(assign[1], assigned_no_constraints)\n",
    "    for arg_id, k in zip(distribs.keys(), assign[1]):\n",
    "        classical_role_binning[k][arg_id] += 1\n",
    "\n",
    "    #classical_role_binning[assigned][arg_id] += 1\n",
    "\n",
    "for id_, classical_roles in classical_role_binning.items():\n",
    "    norm_roles = np.asarray(list(classical_roles.values()), dtype=float)\n",
    "    norm_roles /= norm_roles.sum()\n",
    "    print(id_, classical_roles, sorted(norm_roles, reverse=True))"
   ]
  },
  {
   "cell_type": "code",
   "execution_count": 72,
   "id": "indoor-ethiopia",
   "metadata": {},
   "outputs": [
    {
     "name": "stdout",
     "output_type": "stream",
     "text": [
      "0.6860872333651703\n"
     ]
    }
   ],
   "source": [
    "# let's compute purity\n",
    "n_points = 0\n",
    "correct_points = 0\n",
    "for id_, classical_roles in classical_role_binning.items():\n",
    "    id_most_common, val_most_common = classical_roles.most_common(1)[0]\n",
    "    n_points += sum(classical_roles.values())\n",
    "    correct_points += val_most_common\n",
    "print(correct_points/n_points)"
   ]
  },
  {
   "cell_type": "markdown",
   "id": "supposed-creator",
   "metadata": {},
   "source": [
    "### Model\n",
    "\n",
    "Limitations\n",
    "\n",
    "- Neglects the ordinal + N/A nature of the original data\n",
    "- Breakdown of the problem into problems to be solved greedily\n",
    "\n",
    "Possible improvements\n",
    "\n",
    "- Use BIC or AIC to find K?\n",
    "\n",
    "\n",
    "If I ever use learned prototypes instead of classical roles, I will have the following problem:\n",
    "\n",
    "- Depending on the value of the \"second\" K value of the K-means, the input repr will be very different. If K=2, the strategy for which the network encodes the position will work (as it is working right now with K=3 and the classical roles). But if K=10 or K=50, which yields a larger purity (but barely)!, then this strategy might break. What would be learned, then? \n",
    "\n",
    "Alternative model 1: *probabilistic mixture model*\n",
    "\n",
    "- Compare models via likelihood\n",
    "- Now a prototype is not a vector of the dataset anymore, but a probability distribution, and same for cluster attribution. \n",
    "\n",
    "Alternative model 2: *graphVAE*\n",
    "\n",
    "- \n",
    "\n",
    "### Data\n",
    "\n",
    "Limits of the data: small data: 10 instances of verbs MAX might be too small?\n",
    "\n",
    "\n",
    "\n",
    "\n",
    "    "
   ]
  },
  {
   "cell_type": "code",
   "execution_count": null,
   "id": "corporate-ecuador",
   "metadata": {},
   "outputs": [],
   "source": []
  }
 ],
 "metadata": {
  "kernelspec": {
   "display_name": "Python 3",
   "language": "python",
   "name": "python3"
  },
  "language_info": {
   "codemirror_mode": {
    "name": "ipython",
    "version": 3
   },
   "file_extension": ".py",
   "mimetype": "text/x-python",
   "name": "python",
   "nbconvert_exporter": "python",
   "pygments_lexer": "ipython3",
   "version": "3.7.9"
  }
 },
 "nbformat": 4,
 "nbformat_minor": 5
}

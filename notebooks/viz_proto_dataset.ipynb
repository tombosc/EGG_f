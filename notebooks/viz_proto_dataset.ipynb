{
 "cells": [
  {
   "cell_type": "code",
   "execution_count": 1,
   "id": "italian-medicare",
   "metadata": {},
   "outputs": [
    {
     "name": "stdout",
     "output_type": "stream",
     "text": [
      "total sentence, tokens and arguments: 9670\n",
      "total sentences and verb tokens: 5195\n",
      "args count Counter({1: 4163, 0: 3939, 2: 1168, 4: 232, 3: 152, 5: 16})\n",
      "removing 47 examples which have no roles (n_max_args=8)\n",
      "Counter({(True, True, False, False, False, False, False, False): 2314, (True, False, False, False, False, False, False, False): 915, (False, True, False, False, False, False, False, False): 671, (True, True, True, False, False, False, False, False): 434, (False, True, True, False, False, False, False, False): 363, (True, False, True, False, False, False, False, False): 151, (False, True, True, False, True, False, False, False): 73, (False, False, False, False, False, False, False, False): 47, (False, True, False, False, True, False, False, False): 47, (True, True, False, True, False, False, False, False): 45, (False, True, False, True, False, False, False, False): 22, (True, True, False, False, True, False, False, False): 19, (False, True, False, True, True, False, False, False): 18, (False, True, True, True, False, False, False, False): 15, (False, False, True, False, False, False, False, False): 13, (True, True, False, True, True, False, False, False): 11, (True, False, False, True, False, False, False, False): 7, (True, False, False, False, True, False, False, False): 7, (True, True, True, False, True, False, False, False): 4, (False, True, True, True, True, False, False, False): 4, (True, True, True, True, False, False, False, False): 3, (True, False, False, True, True, False, False, False): 2, (True, True, True, True, True, False, False, False): 2, (False, True, False, False, False, True, False, False): 2, (False, False, False, True, False, False, False, False): 2, (True, True, False, False, False, True, False, False): 1, (False, False, False, False, True, False, False, False): 1, (False, True, True, False, False, True, False, False): 1, (False, False, True, False, True, False, False, False): 1})\n"
     ]
    }
   ],
   "source": [
    "from egg.zoo.vd_reco import data_proto\n",
    "data = data_proto.Data(fn=\"../protoroles_eng_pb/protoroles_eng_pb_08302015.tsv\",\n",
    "                      augment=False, n_max_args=8)"
   ]
  },
  {
   "cell_type": "code",
   "execution_count": 5,
   "id": "important-terrorist",
   "metadata": {},
   "outputs": [
    {
     "data": {
      "text/plain": [
       "Counter({0: 0, 1: 3925, 2: 4128, 3: 1164, 4: 152, 5: 232, 6: 16, 7: 0, 8: 0})"
      ]
     },
     "execution_count": 5,
     "metadata": {},
     "output_type": "execute_result"
    }
   ],
   "source": [
    "from collections import Counter, defaultdict\n",
    "\n",
    "\n",
    "role_counts = Counter()\n",
    "for sender_input, _, _ in data:\n",
    "    _, _, to_send = sender_input\n",
    "    for j, c in enumerate(to_send):\n",
    "        role_counts[j] += c\n",
    "role_counts"
   ]
  },
  {
   "cell_type": "code",
   "execution_count": 23,
   "id": "postal-contemporary",
   "metadata": {},
   "outputs": [],
   "source": [
    "sender_data = [d[0] for d in data]\n",
    "s_data = [(roleset, to_send) for roleset, _, to_send in sender_data]\n"
   ]
  },
  {
   "cell_type": "code",
   "execution_count": 24,
   "id": "limiting-opera",
   "metadata": {},
   "outputs": [],
   "source": [
    "# get tuples of present roles\n",
    "x = []\n",
    "for roleset, to_send in s_data:\n",
    "    x.append((roleset, tuple(to_send)))\n"
   ]
  },
  {
   "cell_type": "code",
   "execution_count": 6,
   "id": "latin-norfolk",
   "metadata": {
    "scrolled": false
   },
   "outputs": [
    {
     "ename": "NameError",
     "evalue": "name 'x' is not defined",
     "output_type": "error",
     "traceback": [
      "\u001b[0;31m---------------------------------------------------------------------------\u001b[0m",
      "\u001b[0;31mNameError\u001b[0m                                 Traceback (most recent call last)",
      "\u001b[0;32m<ipython-input-6-ea2b0ff6c0e2>\u001b[0m in \u001b[0;36m<module>\u001b[0;34m\u001b[0m\n\u001b[1;32m      1\u001b[0m \u001b[0;32mfrom\u001b[0m \u001b[0mcollections\u001b[0m \u001b[0;32mimport\u001b[0m \u001b[0mCounter\u001b[0m\u001b[0;34m,\u001b[0m \u001b[0mdefaultdict\u001b[0m\u001b[0;34m\u001b[0m\u001b[0;34m\u001b[0m\u001b[0m\n\u001b[1;32m      2\u001b[0m \u001b[0mC\u001b[0m \u001b[0;34m=\u001b[0m \u001b[0mdefaultdict\u001b[0m\u001b[0;34m(\u001b[0m\u001b[0mCounter\u001b[0m\u001b[0;34m)\u001b[0m\u001b[0;34m\u001b[0m\u001b[0;34m\u001b[0m\u001b[0m\n\u001b[0;32m----> 3\u001b[0;31m \u001b[0;32mfor\u001b[0m \u001b[0mroleset\u001b[0m\u001b[0;34m,\u001b[0m \u001b[0mp\u001b[0m \u001b[0;32min\u001b[0m \u001b[0mx\u001b[0m\u001b[0;34m:\u001b[0m\u001b[0;34m\u001b[0m\u001b[0;34m\u001b[0m\u001b[0m\n\u001b[0m\u001b[1;32m      4\u001b[0m      \u001b[0mC\u001b[0m\u001b[0;34m[\u001b[0m\u001b[0mroleset\u001b[0m\u001b[0;34m]\u001b[0m\u001b[0;34m[\u001b[0m\u001b[0mp\u001b[0m\u001b[0;34m]\u001b[0m \u001b[0;34m+=\u001b[0m \u001b[0;36m1\u001b[0m\u001b[0;34m\u001b[0m\u001b[0;34m\u001b[0m\u001b[0m\n\u001b[1;32m      5\u001b[0m \u001b[0;34m\u001b[0m\u001b[0m\n",
      "\u001b[0;31mNameError\u001b[0m: name 'x' is not defined"
     ]
    }
   ],
   "source": [
    "from collections import Counter, defaultdict\n",
    "C = defaultdict(Counter)\n",
    "for roleset, p in x:\n",
    "     C[roleset][p] += 1\n",
    "        "
   ]
  },
  {
   "cell_type": "code",
   "execution_count": null,
   "id": "pressing-yacht",
   "metadata": {},
   "outputs": [],
   "source": []
  }
 ],
 "metadata": {
  "kernelspec": {
   "display_name": "Python 3",
   "language": "python",
   "name": "python3"
  },
  "language_info": {
   "codemirror_mode": {
    "name": "ipython",
    "version": 3
   },
   "file_extension": ".py",
   "mimetype": "text/x-python",
   "name": "python",
   "nbconvert_exporter": "python",
   "pygments_lexer": "ipython3",
   "version": "3.7.9"
  }
 },
 "nbformat": 4,
 "nbformat_minor": 5
}

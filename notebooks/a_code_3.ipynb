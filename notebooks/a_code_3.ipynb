{
 "cells": [
  {
   "cell_type": "code",
   "execution_count": 12,
   "id": "motivated-infrared",
   "metadata": {},
   "outputs": [
    {
     "name": "stdout",
     "output_type": "stream",
     "text": [
      "total sentence, tokens and arguments: 9270\n",
      "total sentences and verb tokens: 5193\n",
      "args count Counter({1: 4163, 0: 3939, 2: 1168})\n",
      "removing 48 examples which have no roles (n_max_args=3)\n",
      "Counter({(True, True, False): 2390, (True, False, False): 931, (False, True, False): 760, (False, True, True): 456, (True, True, True): 443, (True, False, True): 151, (False, False, False): 48, (False, False, True): 14})\n"
     ]
    }
   ],
   "source": [
    "from egg.zoo.vd_reco import data_proto\n",
    "dataset = data_proto.Data(fn=\"../protoroles_eng_pb/protoroles_eng_pb_08302015.tsv\",\n",
    "                          augment=True)\n",
    "idx2role = {idx: role for role, idx in dataset.idx_roleset.items()}"
   ]
  },
  {
   "cell_type": "code",
   "execution_count": 13,
   "id": "hollywood-oakland",
   "metadata": {},
   "outputs": [
    {
     "data": {
      "text/plain": [
       "['awareness',\n",
       " 'change_of_location',\n",
       " 'change_of_state',\n",
       " 'changes_possession',\n",
       " 'created',\n",
       " 'destroyed',\n",
       " 'existed_after',\n",
       " 'existed_before',\n",
       " 'existed_during',\n",
       " 'exists_as_physical',\n",
       " 'instigation',\n",
       " 'location_of_event',\n",
       " 'makes_physical_contact',\n",
       " 'manipulated_by_another',\n",
       " 'predicate_changed_argument',\n",
       " 'sentient',\n",
       " 'stationary',\n",
       " 'volition']"
      ]
     },
     "execution_count": 13,
     "metadata": {},
     "output_type": "execute_result"
    }
   ],
   "source": [
    "dataset.ordered_properties"
   ]
  },
  {
   "cell_type": "code",
   "execution_count": 14,
   "id": "identical-basics",
   "metadata": {},
   "outputs": [],
   "source": [
    "import torch\n",
    "\n",
    "train_data = torch.load('../res_proto_3_adam/67ca2f3fa5d73d76b56f1abeb0f551cf_I/2021_05_23_22_21_26/train/interactions_epoch280')\n",
    "validation_data = torch.load('../res_proto_3_adam/67ca2f3fa5d73d76b56f1abeb0f551cf_I/2021_05_23_22_21_26/validation/interactions_epoch280')\n",
    "\n",
    "#train_data = torch.load('../res_proto_3_adam/5751d3724578c519674a708b8ffc4dc2_I/2021_05_24_15_29_47/train/interactions_epoch200')\n",
    "#validation_data = torch.load('../res_proto_3_adam/5751d3724578c519674a708b8ffc4dc2_I/2021_05_24_15_29_47/validation/interactions_epoch200')"
   ]
  },
  {
   "cell_type": "code",
   "execution_count": 15,
   "id": "voluntary-hundred",
   "metadata": {},
   "outputs": [
    {
     "data": {
      "text/plain": [
       "6"
      ]
     },
     "execution_count": 15,
     "metadata": {},
     "output_type": "execute_result"
    }
   ],
   "source": [
    "len(train_data.aux)"
   ]
  },
  {
   "cell_type": "code",
   "execution_count": null,
   "id": "unsigned-variable",
   "metadata": {},
   "outputs": [],
   "source": []
  },
  {
   "cell_type": "code",
   "execution_count": 17,
   "id": "polish-stomach",
   "metadata": {},
   "outputs": [
    {
     "data": {
      "text/plain": [
       "18"
      ]
     },
     "execution_count": 17,
     "metadata": {},
     "output_type": "execute_result"
    }
   ],
   "source": [
    "len(validation_data.aux)"
   ]
  },
  {
   "cell_type": "code",
   "execution_count": 18,
   "id": "productive-secretary",
   "metadata": {
    "scrolled": false
   },
   "outputs": [
    {
     "name": "stdout",
     "output_type": "stream",
     "text": [
      "torch.Size([20042, 8, 64])\n",
      "torch.Size([20042, 4])\n",
      "tensor([17,  0,  0,  0,  0,  0,  0,  0]) tensor([0., 1., 0., 0.]) lrole=3.085 lobjs=1.052 cave.01\n",
      "tensor([17,  0,  0,  0,  0,  0,  0,  0]) tensor([1., 1., 0., 0.]) lrole=5.194 lobjs=1.871 cave.01\n",
      "tensor([53,  7,  0,  0,  0,  0,  0,  0]) tensor([0., 1., 0., 0.]) lrole=1.257 lobjs=1.126 voice.01\n",
      "tensor([14, 12, 18,  0,  0,  0,  0,  0]) tensor([0., 0., 1., 0.]) lrole=2.591 lobjs=0.696 star.01\n",
      "tensor([33,  0,  0,  0,  0,  0,  0,  0]) tensor([0., 1., 0., 0.]) lrole=6.550 lobjs=1.459 relax.01\n",
      "tensor([58, 42,  0,  0,  0,  0,  0,  0]) tensor([0., 0., 1., 0.]) lrole=6.938 lobjs=1.635 remain.01\n",
      "tensor([17,  0,  0,  0,  0,  0,  0,  0]) tensor([0., 1., 0., 0.]) lrole=9.623 lobjs=1.498 emphasize.01\n",
      "tensor([53,  7,  0,  0,  0,  0,  0,  0]) tensor([0., 1., 0., 0.]) lrole=7.906 lobjs=1.132 jell.01\n",
      "tensor([42, 15,  0,  0,  0,  0,  0,  0]) tensor([0., 1., 0., 0.]) lrole=5.225 lobjs=1.246 stress.01\n",
      "tensor([56, 62, 15,  0,  0,  0,  0,  0]) tensor([0., 0., 1., 0.]) lrole=4.888 lobjs=0.303 stress.01\n"
     ]
    }
   ],
   "source": [
    "D = train_data\n",
    "n=100\n",
    "print(D.message.size())\n",
    "print(D.aux[\"sender_input_to_send\"].size())\n",
    "for i, m in enumerate(D.message.argmax(2)[:n]):\n",
    "    role_id = int(D.aux[\"roleset\"][i].item())\n",
    "    role_str = idx2role[role_id]\n",
    "    loss_objs = D.aux[\"loss_objs\"][i].item()\n",
    "    loss_roles = D.aux[\"loss_roles\"][i].item()\n",
    "    if loss_objs > 2: \n",
    "        continue\n",
    "    #if role_str.startswith('send') or role_str.startswith('receive'):\n",
    "    #    pass\n",
    "    #else:\n",
    "    #    continue\n",
    "    print(\"{} {} lrole={:.3f} lobjs={:.3f} {}\".format(m, D.aux[\"sender_input_to_send\"][i],\n",
    "          loss_roles, loss_objs,\n",
    "          role_str))"
   ]
  },
  {
   "cell_type": "markdown",
   "id": "possible-yahoo",
   "metadata": {},
   "source": [
    "# Top arguments\n",
    "Find frequent argument, regardless of the particular role with regards to a particular roleset. Then, we can find this same argument in other positions and look at the different messages."
   ]
  },
  {
   "cell_type": "code",
   "execution_count": 24,
   "id": "humanitarian-portuguese",
   "metadata": {},
   "outputs": [
    {
     "name": "stdout",
     "output_type": "stream",
     "text": [
      "2992\n"
     ]
    }
   ],
   "source": [
    "from collections import Counter, defaultdict\n",
    "\n",
    "D = validation_data\n",
    "arguments_counts = Counter()\n",
    "position_counts_per_arg = defaultdict(Counter)\n",
    "print(len(D.message.argmax(2)))\n",
    "for i, m in enumerate(D.message.argmax(2)):\n",
    "    to_send = D.aux[\"sender_input_to_send\"][i]\n",
    "    for j, v in enumerate(to_send[1:]):\n",
    "        if v == 1:\n",
    "            arg = tuple(D.sender_input[i][j].tolist())\n",
    "            arguments_counts[arg] += 1\n",
    "            position_counts_per_arg[arg][j] += 1"
   ]
  },
  {
   "cell_type": "code",
   "execution_count": 25,
   "id": "common-england",
   "metadata": {},
   "outputs": [
    {
     "name": "stdout",
     "output_type": "stream",
     "text": [
      "0: #((3, 2, 2, 0, 1, 1, 3, 3, 3, 3, 3, 0, 2, 0, 1, 3, 2, 3)) = 168: Counter({0: 168})\n",
      "1: #((3, 2, 2, 0, 1, 1, 3, 3, 3, 3, 3, 0, 2, 0, 2, 3, 2, 3)) = 142: Counter({0: 134, 1: 8})\n",
      "2: #((0, 0, 3, 0, 1, 1, 3, 3, 3, 0, 0, 0, 0, 3, 3, 0, 0, 0)) = 138: Counter({1: 122, 2: 8, 0: 8})\n",
      "3: #((0, 0, 0, 0, 0, 0, 0, 0, 0, 0, 0, 0, 0, 3, 0, 0, 0, 0)) = 138: Counter({2: 116, 1: 22})\n",
      "4: #((0, 0, 0, 0, 0, 0, 0, 0, 0, 0, 0, 0, 0, 0, 0, 0, 0, 0)) = 120: Counter({2: 76, 1: 40, 0: 4})\n",
      "5: #((3, 0, 3, 1, 1, 1, 3, 3, 3, 0, 3, 0, 0, 0, 3, 0, 0, 3)) = 84: Counter({0: 80, 1: 4})\n",
      "6: #((0, 0, 2, 0, 1, 1, 3, 3, 3, 0, 0, 0, 0, 3, 0, 0, 0, 0)) = 78: Counter({1: 54, 2: 16, 0: 8})\n",
      "7: #((3, 2, 3, 0, 1, 1, 3, 3, 3, 3, 3, 0, 2, 0, 3, 3, 2, 3)) = 78: Counter({0: 74, 1: 4})\n",
      "8: #((3, 2, 2, 0, 1, 1, 3, 3, 3, 3, 3, 0, 3, 0, 1, 3, 2, 3)) = 78: Counter({0: 74, 1: 4})\n",
      "9: #((0, 0, 3, 0, 3, 1, 3, 1, 3, 0, 0, 0, 0, 3, 3, 0, 0, 0)) = 64: Counter({1: 60, 2: 4})\n",
      "10: #((3, 0, 2, 1, 1, 1, 3, 3, 3, 0, 3, 0, 0, 0, 1, 0, 0, 3)) = 64: Counter({0: 64})\n",
      "11: #((0, 0, 3, 3, 1, 1, 3, 3, 3, 0, 0, 0, 0, 3, 3, 0, 0, 0)) = 56: Counter({1: 32, 2: 12, 0: 12})\n",
      "12: #((0, 0, 2, 0, 1, 1, 3, 3, 3, 0, 0, 0, 0, 3, 1, 0, 0, 0)) = 46: Counter({1: 38, 2: 4, 0: 4})\n",
      "13: #((0, 0, 2, 0, 1, 1, 2, 2, 3, 0, 0, 0, 0, 3, 0, 0, 0, 0)) = 40: Counter({1: 20, 0: 20})\n",
      "14: #((3, 0, 2, 1, 1, 1, 3, 3, 3, 0, 3, 0, 0, 0, 2, 0, 0, 3)) = 36: Counter({0: 36})\n",
      "15: #((3, 3, 3, 0, 1, 1, 3, 3, 3, 3, 3, 0, 3, 0, 3, 3, 1, 3)) = 36: Counter({0: 28, 1: 8})\n",
      "16: #((0, 0, 0, 0, 1, 1, 3, 3, 3, 0, 0, 0, 0, 3, 0, 0, 0, 0)) = 30: Counter({2: 16, 1: 10, 0: 4})\n",
      "17: #((3, 2, 3, 0, 1, 1, 3, 3, 3, 3, 3, 0, 3, 0, 3, 3, 2, 3)) = 28: Counter({0: 28})\n",
      "18: #((3, 3, 2, 0, 1, 1, 3, 3, 3, 3, 3, 0, 3, 0, 1, 3, 1, 3)) = 26: Counter({0: 22, 1: 4})\n",
      "19: #((0, 0, 1, 0, 1, 1, 3, 3, 3, 0, 0, 0, 0, 3, 1, 0, 0, 0)) = 24: Counter({1: 20, 2: 4})\n",
      "20: #((3, 2, 2, 0, 1, 1, 3, 3, 3, 3, 3, 3, 2, 0, 1, 3, 2, 3)) = 24: Counter({0: 24})\n",
      "21: #((3, 0, 2, 1, 1, 1, 3, 3, 3, 0, 3, 3, 0, 0, 1, 0, 0, 3)) = 24: Counter({0: 24})\n",
      "22: #((3, 2, 2, 1, 1, 1, 3, 3, 3, 2, 3, 0, 2, 0, 1, 2, 2, 3)) = 24: Counter({0: 16, 1: 8})\n",
      "23: #((0, 0, 2, 0, 1, 1, 3, 3, 3, 0, 0, 0, 0, 3, 2, 0, 0, 0)) = 24: Counter({1: 20, 2: 4})\n",
      "24: #((0, 0, 3, 1, 1, 1, 3, 3, 3, 0, 0, 0, 0, 3, 3, 0, 0, 0)) = 20: Counter({1: 20})\n",
      "25: #((3, 0, 3, 0, 1, 1, 3, 3, 3, 0, 3, 0, 0, 0, 3, 0, 0, 3)) = 20: Counter({0: 20})\n",
      "26: #((0, 0, 3, 0, 1, 1, 3, 3, 3, 0, 0, 0, 0, 0, 3, 0, 0, 0)) = 20: Counter({1: 16, 0: 4})\n",
      "27: #((3, 0, 2, 0, 1, 1, 3, 3, 3, 0, 3, 0, 0, 0, 1, 0, 0, 3)) = 18: Counter({0: 18})\n",
      "28: #((3, 2, 3, 1, 1, 1, 3, 3, 3, 2, 3, 0, 2, 0, 3, 2, 2, 3)) = 18: Counter({0: 14, 1: 4})\n",
      "29: #((0, 0, 2, 0, 2, 1, 3, 2, 3, 0, 0, 0, 0, 3, 0, 0, 0, 0)) = 16: Counter({0: 8, 1: 4, 2: 4})\n"
     ]
    }
   ],
   "source": [
    "j = 0\n",
    "for argument, count in arguments_counts.most_common(30):\n",
    "    print(\"{}: #({}) = {}: {}\".format(\n",
    "        j, argument, count, position_counts_per_arg[argument]))\n",
    "    j+=1"
   ]
  },
  {
   "cell_type": "markdown",
   "id": "intermediate-calvin",
   "metadata": {},
   "source": [
    "# Realization"
   ]
  },
  {
   "cell_type": "code",
   "execution_count": 29,
   "id": "still-annual",
   "metadata": {
    "scrolled": false
   },
   "outputs": [
    {
     "name": "stdout",
     "output_type": "stream",
     "text": [
      "(0, 0, 2, 0, 1, 1, 3, 3, 3, 0, 0, 0, 0, 3, 0, 0, 0, 0) Counter({1: 54, 2: 16, 0: 8})\n",
      "msg: [42 18 42 42 42 18 42  0] - send: [ 0. 99.  0.  0.] - loss=1.264 - head.02\n",
      "msg: [18 18 42 18 18 18 18  0] - send: [ 1. 99.  0.  0.] - loss=3.739 - head.02\n",
      "msg: [18 18 42 18 18 18 18  0] - send: [ 0. 99.  1.  0.] - loss=4.093 - head.02\n",
      "msg: [18 18 42 18 18 18 18  0] - send: [ 1. 99.  1.  0.] - loss=3.739 - head.02\n",
      "msg: [58 42  0  0  0  0  0  0] - send: [ 0.  0. 99.  0.] - loss=5.670 - follow.03\n",
      "msg: [58 26  0  0  0  0  0  0] - send: [ 0.  0. 99.  0.] - loss=0.728 - auction.02\n",
      "msg: [58 46  4 58 58 58 58  0] - send: [ 1.  0. 99.  0.] - loss=3.258 - auction.02\n",
      "msg: [ 4 26 56  0  0  0  0  0] - send: [ 0.  0.  0. 99.] - loss=1.086 - auction.02\n",
      "msg: [58 46  4 58 58 58 58  0] - send: [ 1.  0.  0. 99.] - loss=3.258 - auction.02\n",
      "msg: [58 46  0  0  0  0  0  0] - send: [ 0.  1. 99.  0.] - loss=2.192 - auction.02\n",
      "msg: [58 46  4 58 58 58 26  0] - send: [ 1.  1. 99.  0.] - loss=3.064 - auction.02\n",
      "msg: [58 46  4 14  0  0  0  0] - send: [ 0.  1.  0. 99.] - loss=2.006 - auction.02\n",
      "msg: [58 46  4 58 58 58 26  0] - send: [ 1.  1.  0. 99.] - loss=3.064 - auction.02\n",
      "msg: [58 26  4 26 18 26 18  0] - send: [ 0.  0. 99. 99.] - loss=1.853 - auction.02\n",
      "msg: [58 46  4 58 58 58 58  0] - send: [ 1.  0. 99. 99.] - loss=3.258 - auction.02\n",
      "msg: [58 46  4 58 58 58 58  0] - send: [ 0.  1. 99. 99.] - loss=2.763 - auction.02\n",
      "msg: [58 46  4 58 58 58 58  0] - send: [ 1.  1. 99. 99.] - loss=3.258 - auction.02\n",
      "msg: [58 12  0  0  0  0  0  0] - send: [ 0.  0. 99.  0.] - loss=1.585 - appear.02\n",
      "msg: [58 12  0  0  0  0  0  0] - send: [ 1.  0. 99.  0.] - loss=1.538 - appear.02\n",
      "msg: [42 18 42 42 18 42 15  0] - send: [ 0. 99.  0.  0.] - loss=1.144 - trust.01\n",
      "msg: [58 42  0  0  0  0  0  0] - send: [ 0.  0. 99.  0.] - loss=1.451 - understand.01\n",
      "msg: [58 42  0  0  0  0  0  0] - send: [ 0.  0. 99.  0.] - loss=1.303 - hail.04\n",
      "msg: [58  0  0  0  0  0  0  0] - send: [ 1.  0. 99.  0.] - loss=6.243 - hail.04\n",
      "msg: [58  0  0  0  0  0  0  0] - send: [ 0.  1. 99.  0.] - loss=6.034 - hail.04\n",
      "msg: [58  0  0  0  0  0  0  0] - send: [ 1.  1. 99.  0.] - loss=6.243 - hail.04\n",
      "msg: [58 42  0  0  0  0  0  0] - send: [ 0.  0. 99.  0.] - loss=2.164 - tout.01\n",
      "msg: [58 16 62 58 42  0  0  0] - send: [ 1.  0. 99.  0.] - loss=8.511 - tout.01\n",
      "msg: [58 16 62 58 42  0  0  0] - send: [ 0.  1. 99.  0.] - loss=8.434 - tout.01\n",
      "msg: [58 16 62 58 42  0  0  0] - send: [ 1.  1. 99.  0.] - loss=8.511 - tout.01\n",
      "msg: [58 42  0  0  0  0  0  0] - send: [ 0.  0. 99.  0.] - loss=1.226 - auction.02\n",
      "msg: [58  0  0  0  0  0  0  0] - send: [ 0.  1. 99.  0.] - loss=1.585 - auction.02\n",
      "msg: [58 42  0  0  0  0  0  0] - send: [ 0.  0. 99.  0.] - loss=1.513 - blaze.01\n",
      "msg: [58 26  0  0  0  0  0  0] - send: [ 1.  0. 99.  0.] - loss=2.910 - blaze.01\n",
      "msg: [58 26  0  0  0  0  0  0] - send: [ 0.  1. 99.  0.] - loss=3.219 - blaze.01\n",
      "msg: [58 46  0  0  0  0  0  0] - send: [ 1.  1. 99.  0.] - loss=3.059 - blaze.01\n",
      "msg: [58 26  0  0  0  0  0  0] - send: [ 0.  0. 99.  0.] - loss=0.728 - auction.02\n",
      "msg: [58 46  4 58 58 58 58  0] - send: [ 1.  0. 99.  0.] - loss=3.258 - auction.02\n",
      "msg: [ 4 26 56  0  0  0  0  0] - send: [ 0.  0.  0. 99.] - loss=1.086 - auction.02\n",
      "msg: [58 46  4 58 58 58 58  0] - send: [ 1.  0.  0. 99.] - loss=3.258 - auction.02\n",
      "msg: [58 46  0  0  0  0  0  0] - send: [ 0.  1. 99.  0.] - loss=2.192 - auction.02\n",
      "msg: [58 46  4 58 58 58 26  0] - send: [ 1.  1. 99.  0.] - loss=3.064 - auction.02\n",
      "msg: [58 46  4 14  0  0  0  0] - send: [ 0.  1.  0. 99.] - loss=2.006 - auction.02\n",
      "msg: [58 46  4 58 58 58 26  0] - send: [ 1.  1.  0. 99.] - loss=3.064 - auction.02\n",
      "msg: [58 26  4 26 18 26 18  0] - send: [ 0.  0. 99. 99.] - loss=1.853 - auction.02\n",
      "msg: [58 46  4 58 58 58 58  0] - send: [ 1.  0. 99. 99.] - loss=3.258 - auction.02\n",
      "msg: [58 46  4 58 58 58 58  0] - send: [ 0.  1. 99. 99.] - loss=2.763 - auction.02\n",
      "msg: [58 46  4 58 58 58 58  0] - send: [ 1.  1. 99. 99.] - loss=3.258 - auction.02\n",
      "msg: [58 42  0  0  0  0  0  0] - send: [ 0.  0. 99.  0.] - loss=1.339 - go.08\n",
      "msg: [58  0  0  0  0  0  0  0] - send: [ 1.  0. 99.  0.] - loss=3.303 - go.08\n",
      "msg: [58  0  0  0  0  0  0  0] - send: [ 0.  1. 99.  0.] - loss=2.835 - go.08\n",
      "msg: [58  0  0  0  0  0  0  0] - send: [ 1.  1. 99.  0.] - loss=3.303 - go.08\n",
      "msg: [58 42  0  0  0  0  0  0] - send: [ 0.  0. 99.  1.] - loss=1.339 - go.08\n",
      "msg: [58  0  0  0  0  0  0  0] - send: [ 1.  0. 99.  1.] - loss=3.303 - go.08\n",
      "msg: [58  0  0  0  0  0  0  0] - send: [ 0.  1. 99.  1.] - loss=2.835 - go.08\n",
      "msg: [58  0  0  0  0  0  0  0] - send: [ 1.  1. 99.  1.] - loss=3.303 - go.08\n",
      "78 found\n"
     ]
    }
   ],
   "source": [
    "D = validation_data\n",
    "i_arg = 6\n",
    "selected_arg, _ = arguments_counts.most_common(i_arg+1)[i_arg]\n",
    "print(selected_arg, position_counts_per_arg[selected_arg])\n",
    "c = 0\n",
    "marker = 99\n",
    "\n",
    "\n",
    "for i, m in enumerate(D.message.argmax(2)):\n",
    "    to_send = D.aux[\"sender_input_to_send\"][i].numpy().copy()\n",
    "    for j, v in enumerate(to_send[1:]):\n",
    "        #print(j)\n",
    "        if v == 1:\n",
    "            arg = tuple(D.sender_input[i][j].tolist())\n",
    "            if arg == selected_arg:\n",
    "                #print(\"Marked\")\n",
    "                c += 1\n",
    "                to_send[j+1] = marker\n",
    "    loss = D.aux[\"loss_objs\"][i].item()\n",
    "    if marker not in to_send or loss > 10:\n",
    "        #print(\"Skipped\", arg)\n",
    "        continue\n",
    "    role_id = int(D.aux[\"roleset\"][i].item())\n",
    "    role_str = idx2role[role_id]\n",
    "\n",
    "    print(\"msg: {} - send: {} - loss={:.3f} - {}\".format\n",
    "          (m.numpy(), to_send, loss, role_str))\n",
    "print(\"{} found\".format(c))"
   ]
  },
  {
   "cell_type": "markdown",
   "id": "introductory-trade",
   "metadata": {},
   "source": [
    "## Remarks\n",
    "The first symbol seems to indicate the position of the argument... For example 90 encodes arg 1, 245 arg 0, various others arg 2... It's probably dependent on the verb, too."
   ]
  },
  {
   "cell_type": "code",
   "execution_count": null,
   "id": "cubic-begin",
   "metadata": {},
   "outputs": [],
   "source": []
  }
 ],
 "metadata": {
  "kernelspec": {
   "display_name": "Python 3",
   "language": "python",
   "name": "python3"
  },
  "language_info": {
   "codemirror_mode": {
    "name": "ipython",
    "version": 3
   },
   "file_extension": ".py",
   "mimetype": "text/x-python",
   "name": "python",
   "nbconvert_exporter": "python",
   "pygments_lexer": "ipython3",
   "version": "3.7.9"
  }
 },
 "nbformat": 4,
 "nbformat_minor": 5
}
